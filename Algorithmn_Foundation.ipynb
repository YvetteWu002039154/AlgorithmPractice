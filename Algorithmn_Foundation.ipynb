{
 "cells": [
  {
   "cell_type": "markdown",
   "metadata": {},
   "source": [
    "#### Binary Search\n",
    "Using median to find out a number's position in the array.\n",
    "\n",
    "- function merge_sort(): merge two list and sort all element inside.\n",
    "- seperate(): do recursion of seperate list into  two."
   ]
  },
  {
   "cell_type": "code",
   "execution_count": 3,
   "metadata": {},
   "outputs": [],
   "source": [
    "binary_search_list = [1,3,2,9,4,-1,-2,4,-5]"
   ]
  },
  {
   "cell_type": "code",
   "execution_count": 7,
   "metadata": {},
   "outputs": [],
   "source": [
    "def merge_sort(left_list, right_list):\n",
    "    result = []\n",
    "    right = 0\n",
    "    left = 0\n",
    "\n",
    "    while right < len(right_list) and left < len(left_list):\n",
    "        if right_list[right] >= left_list[left]:\n",
    "            result.append(left_list[left])\n",
    "            left += 1\n",
    "        else: \n",
    "            result.append(right_list[right])\n",
    "            right += 1\n",
    "\n",
    "    result.extend(left_list[left:])\n",
    "    result.extend(right_list[right:])\n",
    "\n",
    "    return result\n",
    "\n",
    "def seperate(input_list):\n",
    "    if len(input_list) == 1:\n",
    "        return input_list\n",
    "    else:\n",
    "        middle = len(input_list)//2\n",
    "        left = input_list[:middle]\n",
    "        right = input_list[middle:]\n",
    "        return merge_sort(seperate(left),seperate(right))"
   ]
  },
  {
   "cell_type": "code",
   "execution_count": 8,
   "metadata": {},
   "outputs": [
    {
     "data": {
      "text/plain": [
       "[-5, -2, -1, 1, 2, 3, 4, 4, 9]"
      ]
     },
     "execution_count": 8,
     "metadata": {},
     "output_type": "execute_result"
    }
   ],
   "source": [
    "seperate(binary_search_list)"
   ]
  },
  {
   "cell_type": "markdown",
   "metadata": {},
   "source": [
    "# Counter\n",
    "\n",
    "The skill of using count of each elements to find out questions eg. Intersection, Frequency "
   ]
  },
  {
   "cell_type": "code",
   "execution_count": 39,
   "metadata": {},
   "outputs": [],
   "source": [
    "listA = [1,2,3]\n",
    "listB = [5,16,1,3]"
   ]
  },
  {
   "cell_type": "code",
   "execution_count": 43,
   "metadata": {},
   "outputs": [],
   "source": [
    "def intersction(a, b):\n",
    "    list_all = a+b\n",
    "    result = {}\n",
    "    intersected_nums = []\n",
    "    for ele in list_all:\n",
    "        if ele in result:\n",
    "            result[ele] += 1\n",
    "        else:\n",
    "            result[ele] = 1\n",
    "    for key in result:\n",
    "        if result[key] > 1:\n",
    "            intersected_nums.append(key)\n",
    "    return intersected_nums\n"
   ]
  },
  {
   "cell_type": "code",
   "execution_count": 44,
   "metadata": {},
   "outputs": [
    {
     "data": {
      "text/plain": [
       "[1, 3]"
      ]
     },
     "execution_count": 44,
     "metadata": {},
     "output_type": "execute_result"
    }
   ],
   "source": [
    "intersction(listA,listB)"
   ]
  },
  {
   "cell_type": "markdown",
   "metadata": {},
   "source": [
    "# Average Pair\n",
    "Having a sorted array, find if any pair in the array correspond with expected average value."
   ]
  },
  {
   "cell_type": "code",
   "execution_count": 45,
   "metadata": {},
   "outputs": [],
   "source": [
    "average_pair_list = [-11,0,1,2,3,9,14,17,21]"
   ]
  },
  {
   "cell_type": "code",
   "execution_count": 46,
   "metadata": {},
   "outputs": [],
   "source": [
    "def averagePair(input_list,average):\n",
    "    right = len(input_list) - 1\n",
    "    left = 0\n",
    "    result = []\n",
    "    while right > left:\n",
    "        op = (input_list[right] + input_list[left])/2\n",
    "        if op == average:\n",
    "            result.append([input_list[left],input_list[right]])\n",
    "            right -= 1\n",
    "            left += 1\n",
    "        elif op > average:\n",
    "            right -= 1\n",
    "        else:\n",
    "            left += 1\n",
    "    return result\n",
    "\n"
   ]
  },
  {
   "cell_type": "code",
   "execution_count": 48,
   "metadata": {},
   "outputs": [
    {
     "data": {
      "text/plain": [
       "[[-11, 14], [0, 3], [1, 2]]"
      ]
     },
     "execution_count": 48,
     "metadata": {},
     "output_type": "execute_result"
    }
   ],
   "source": [
    "averagePair(average_pair_list,1.5)"
   ]
  }
 ],
 "metadata": {
  "kernelspec": {
   "display_name": "Python 3",
   "language": "python",
   "name": "python3"
  },
  "language_info": {
   "codemirror_mode": {
    "name": "ipython",
    "version": 3
   },
   "file_extension": ".py",
   "mimetype": "text/x-python",
   "name": "python",
   "nbconvert_exporter": "python",
   "pygments_lexer": "ipython3",
   "version": "3.8.10"
  }
 },
 "nbformat": 4,
 "nbformat_minor": 2
}
